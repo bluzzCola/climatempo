{
 "cells": [
  {
   "cell_type": "code",
   "execution_count": 2,
   "metadata": {},
   "outputs": [
    {
     "name": "stdout",
     "output_type": "stream",
     "text": [
      "The Zen of Python, by Tim Peters\n",
      "\n",
      "Beautiful is better than ugly.\n",
      "Explicit is better than implicit.\n",
      "Simple is better than complex.\n",
      "Complex is better than complicated.\n",
      "Flat is better than nested.\n",
      "Sparse is better than dense.\n",
      "Readability counts.\n",
      "Special cases aren't special enough to break the rules.\n",
      "Although practicality beats purity.\n",
      "Errors should never pass silently.\n",
      "Unless explicitly silenced.\n",
      "In the face of ambiguity, refuse the temptation to guess.\n",
      "There should be one-- and preferably only one --obvious way to do it.\n",
      "Although that way may not be obvious at first unless you're Dutch.\n",
      "Now is better than never.\n",
      "Although never is often better than *right* now.\n",
      "If the implementation is hard to explain, it's a bad idea.\n",
      "If the implementation is easy to explain, it may be a good idea.\n",
      "Namespaces are one honking great idea -- let's do more of those!\n"
     ]
    },
    {
     "name": "stderr",
     "output_type": "stream",
     "text": [
      "C:\\Users\\gabbe\\AppData\\Local\\Temp\\ipykernel_13884\\401639078.py:3: DeprecationWarning: The distutils package is deprecated and slated for removal in Python 3.12. Use setuptools or check PEP 632 for potential alternatives\n",
      "  from distutils.command.config import config\n"
     ]
    }
   ],
   "source": [
    "import datetime\n",
    "from datetime import date, datetime\n",
    "from distutils.command.config import config\n",
    "import time\n",
    "import mysql.connector\n",
    "from mysql.connector import errorcode\n",
    "from this import d\n",
    "import requests\n",
    "import json\n",
    "import pprint\n",
    "import urllib.parse"
   ]
  },
  {
   "cell_type": "code",
   "execution_count": 11,
   "metadata": {},
   "outputs": [],
   "source": [
    "accuweatherAPIKey = \"2uZn0oqJRmdwuMCWOoFiCGMYMOOWyouV\"\n",
    "mapboxToken = \"pk.eyJ1IjoiYXJvbm5pIiwiYSI6ImNsOW9pODVxZDA5MWozcG8weDIzcHZmbDAifQ.-b2S4BKL5xZrbNeb9YPDvA\"\n",
    "\n",
    "dias_semana = ['Domingo', 'Segunda-feira', 'Terça-feira', 'Quarta-feira', 'Quinta-feira', 'Sexta-feira', 'Sábado']\n",
    "\n",
    "def pegarCoordenadas():\n",
    "    r = requests.get('http://www.geoplugin.net/json.gp')\n",
    "    #verificação de localização, baseado na numeração de erro 200\n",
    "    if(r.status_code != 200):\n",
    "        print('Não foi possivel obter a localização.')\n",
    "        return None\n",
    "    else:\n",
    "        try:\n",
    "            #print(r.text) - dados da requisição http\n",
    "            localizacao = json.loads(r.text)\n",
    "            coordenadas = {}\n",
    "            coordenadas['lat'] = localizacao['geoplugin_latitude']\n",
    "            coordenadas['long'] = localizacao['geoplugin_longitude']\n",
    "            print('coordenadas ok')\n",
    "            return coordenadas\n",
    "        except:\n",
    "            return None \n",
    "           \n",
    "            \n",
    "\n",
    "def pegarCodigoLocal(lat,long):\n",
    "    LocationAPIUrl = \"http://dataservice.accuweather.com/locations/v1/cities/geoposition/search?apikey=\" + accuweatherAPIKey + \"&q=\" + lat + \"%2C\" + long + \"&language=pt-br\"\n",
    "\n",
    "    r = requests.get(LocationAPIUrl)\n",
    "    if(r.status_code == 401):\n",
    "        print('Não autorizado.')\n",
    "    elif(r.status_code != 200):\n",
    "        print('Não foi possível obter a localização.')\n",
    "        return None\n",
    "    else:\n",
    "        try:\n",
    "            locationResponse = json.loads(r.text)\n",
    "            infoLocal = {}\n",
    "            infoLocal['nomeLocal'] = locationResponse['LocalizedName'] + \",\" + locationResponse['AdministrativeArea']['LocalizedName'] + \".\" + locationResponse['Country']['LocalizedName']\n",
    "            infoLocal['codigoLocal'] = locationResponse['Key']\n",
    "            return infoLocal\n",
    "        except:\n",
    "            return None\n",
    "\n",
    "def pegarTempoAgora(codigoLocal, nomeLocal):\n",
    "    CurrentConditionsAPIUrl = \"http://dataservice.accuweather.com/currentconditions/v1/\" + codigoLocal + \"?apikey=\" + accuweatherAPIKey + \"&language=pt-br\"\n",
    "\n",
    "    r = requests.get(CurrentConditionsAPIUrl)\n",
    "    if(r.status_code != 200):\n",
    "        print('Não foi possivel obter o clima atual')\n",
    "        return None\n",
    "    else:\n",
    "        try:\n",
    "            CurrentConditionsResponse = json.loads(r.text)\n",
    "            global infoClima\n",
    "            infoClima = {}\n",
    "            infoClima['textoClima'] = CurrentConditionsResponse[0]['WeatherText']\n",
    "            infoClima['temperatura'] = CurrentConditionsResponse[0]['Temperature']['Metric']['Value'] \n",
    "            infoClima['nomeLocal'] = nomeLocal\n",
    "            return infoClima\n",
    "        except:\n",
    "            return None\n",
    "\n",
    "def pegarPrevisao5Dias(codigoLocal):\n",
    "    DailyAPIUrl = \" http://dataservice.accuweather.com/forecasts/v1/daily/5day/\" + codigoLocal + \"?apikey=\" + accuweatherAPIKey + \"&language=pt-br&metric=true\"\n",
    "\n",
    "    r = requests.get(DailyAPIUrl)\n",
    "    if(r.status_code != 200):\n",
    "        print('Não foi possivel obter o clima atual.')\n",
    "        return None\n",
    "    else:\n",
    "        try:\n",
    "            DailyResponse = json.loads(r.text)\n",
    "            infoClima5Dias = []\n",
    "            for dia in DailyResponse['DailyForecasts']:\n",
    "                climaDia = {}\n",
    "                climaDia['max']=dia['Temperature']['Maximum']['Value']\n",
    "                climaDia['min']=dia['Temperature']['Maximum']['Value']\n",
    "                climaDia['clima']=dia['Day']['IconPhrase']\n",
    "                diaSemana = int(date.fromtimestamp(dia['EpochDate']).strftime(\"%w\"))\n",
    "                climaDia['dia']=dias_semana[diaSemana]\n",
    "                infoClima5Dias.append(climaDia)\n",
    "            return infoClima5Dias\n",
    "        except:\n",
    "            return None\n"
   ]
  },
  {
   "cell_type": "code",
   "execution_count": 12,
   "metadata": {},
   "outputs": [
    {
     "name": "stdout",
     "output_type": "stream",
     "text": [
      "coordenadas ok\n",
      "Não foi possível obter a localização.\n",
      "None\n"
     ]
    },
    {
     "ename": "TypeError",
     "evalue": "'NoneType' object is not subscriptable",
     "output_type": "error",
     "traceback": [
      "\u001b[1;31m---------------------------------------------------------------------------\u001b[0m",
      "\u001b[1;31mTypeError\u001b[0m                                 Traceback (most recent call last)",
      "Cell \u001b[1;32mIn [12], line 4\u001b[0m\n\u001b[0;32m      2\u001b[0m local \u001b[39m=\u001b[39m pegarCodigoLocal(coordenadas\u001b[39m.\u001b[39mget(\u001b[39m'\u001b[39m\u001b[39mlat\u001b[39m\u001b[39m'\u001b[39m),coordenadas\u001b[39m.\u001b[39mget(\u001b[39m'\u001b[39m\u001b[39mlong\u001b[39m\u001b[39m'\u001b[39m))\n\u001b[0;32m      3\u001b[0m \u001b[39mprint\u001b[39m(local)\n\u001b[1;32m----> 4\u001b[0m climaAtual \u001b[39m=\u001b[39m pegarTempoAgora(local[\u001b[39m'\u001b[39;49m\u001b[39mnomeLocal\u001b[39;49m\u001b[39m'\u001b[39;49m])\n\u001b[0;32m      7\u001b[0m sql \u001b[39m=\u001b[39m (\u001b[39m'\u001b[39m\u001b[39mINSERT INTO localGps(latitude,longitude) VALUES (\u001b[39m\u001b[39m%s\u001b[39;00m\u001b[39m,\u001b[39m\u001b[39m%s\u001b[39;00m\u001b[39m)\u001b[39m\u001b[39m'\u001b[39m)\n\u001b[0;32m      8\u001b[0m values \u001b[39m=\u001b[39m (coordenadas\u001b[39m.\u001b[39mget(\u001b[39m'\u001b[39m\u001b[39mlat\u001b[39m\u001b[39m'\u001b[39m), coordenadas\u001b[39m.\u001b[39mget(\u001b[39m'\u001b[39m\u001b[39mlong\u001b[39m\u001b[39m'\u001b[39m))\n",
      "\u001b[1;31mTypeError\u001b[0m: 'NoneType' object is not subscriptable"
     ]
    }
   ],
   "source": [
    "coordenadas = pegarCoordenadas()\n",
    "local = pegarCodigoLocal(coordenadas.get('lat'),coordenadas.get('long'))\n",
    "print(local)\n",
    "climaAtual = pegarTempoAgora(local['nomeLocal'])\n",
    "\n",
    "sql = ('INSERT INTO localGps(latitude,longitude) VALUES (%s,%s)')\n",
    "values = (coordenadas.get('lat'), coordenadas.get('long'))\n"
   ]
  },
  {
   "cell_type": "code",
   "execution_count": null,
   "metadata": {},
   "outputs": [
    {
     "ename": "",
     "evalue": "",
     "output_type": "error",
     "traceback": [
      "\u001b[1;31mA execução de células com \"Python 3.10.4 64-bit\" requer o pacote ipykernel.\n",
      "\u001b[1;31mExecute o seguinte comando para instalar \"ipykernel\" no ambiente do Python. \n",
      "\u001b[1;31mComando: \"c:/Python310/python.exe -m pip install ipykernel -U --user --force-reinstall\""
     ]
    }
   ],
   "source": [
    "try:\n",
    "    coordenadas = pegarCoordenadas()\n",
    "    print(coordenadas)\n",
    "    localiza = (coordenadas['lat'],coordenadas['long'])\n",
    "    lat = (coordenadas['lat'])\n",
    "    long = (coordenadas['long'])\n",
    "    print(pegarCodigoLocal)\n",
    "    print(localiza)\n",
    "except:\n",
    "        print('Não foi possível obter a previsão para este local.')\n",
    "\n",
    "try:\n",
    "    local = pegarCodigoLocal(coordenadas['lat'],coordenadas['long'])\n",
    "    climaAtual = pegarTempoAgora(local['codigoLocal'], local['nomeLocal'])\n",
    "    print(infoClima['temperatura'])\n",
    "    print(infoClima['textoClima'])\n",
    "\n",
    "except:\n",
    "     print('Erro ao obter o clima atual.')\n"
   ]
  }
 ],
 "metadata": {
  "kernelspec": {
   "display_name": "Python 3.10.4 64-bit",
   "language": "python",
   "name": "python3"
  },
  "language_info": {
   "codemirror_mode": {
    "name": "ipython",
    "version": 3
   },
   "file_extension": ".py",
   "mimetype": "text/x-python",
   "name": "python",
   "nbconvert_exporter": "python",
   "pygments_lexer": "ipython3",
   "version": "3.10.4"
  },
  "orig_nbformat": 4,
  "vscode": {
   "interpreter": {
    "hash": "369f2c481f4da34e4445cda3fffd2e751bd1c4d706f27375911949ba6bb62e1c"
   }
  }
 },
 "nbformat": 4,
 "nbformat_minor": 2
}
